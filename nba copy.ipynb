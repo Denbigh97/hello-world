from nba_api.stats.endpoints import leaguegamefinder

# find team Ids
from nba_api.stats.static import teams 
from nba_api.stats.static import leagues

teams = teams.get_teams()
teams
#teams.find_teams_by_full_name('')

#this time we convert it to a dataframe in the same line of code
#games = leaguegamefinder.LeagueGameFinder().get_data_frames()[0]

# games.to_csv("/Users/Muck/Documents/NBA.csv")
# GSW_games.to_csv("/Users/Muck/Documents/NBA.csv")
# pd.GAME_DATE(start='09/01/2014', end='10/08/2020')
